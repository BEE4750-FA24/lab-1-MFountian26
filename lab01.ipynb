{
  "cells": [
    {
      "cell_type": "markdown",
      "id": "7b030395-ff9d-488b-893a-3f2925d07a29",
      "metadata": {},
      "source": [
        "# BEE 4750 Lab 1: Julia and GitHub Basics\n",
        "\n",
        "**Name**: MacKenzie Fountain\n",
        "\n",
        "**ID**: mdf226\n",
        "\n",
        "> **Due Date** \n",
        ">\n",
        "> Wednesday, 8/28/24, 9:00pm\n",
        "\n",
        "## Setup\n",
        "\n",
        "The following code should go at the top of most Julia scripts; it will\n",
        "load the local package environment and install any needed packages. You\n",
        "will see this often and shouldn’t need to touch it."
      ]
    },
    {
      "cell_type": "code",
      "execution_count": 204,
      "id": "2",
      "metadata": {},
      "outputs": [
        {
          "name": "stderr",
          "output_type": "stream",
          "text": [
            "\u001b[32m\u001b[1m  Activating\u001b[22m\u001b[39m project at `~/Downloads`\n",
            "\u001b[32m\u001b[1m   Resolving\u001b[22m\u001b[39m package versions...\n",
            "\u001b[32m\u001b[1m  No Changes\u001b[22m\u001b[39m to `~/Downloads/Project.toml`\n",
            "\u001b[32m\u001b[1m  No Changes\u001b[22m\u001b[39m to `~/Downloads/Manifest.toml`\n"
          ]
        }
      ],
      "source": [
        "import Pkg\n",
        "Pkg.activate(\".\")\n",
        "Pkg.instantiate()\n",
        "import Pkg; Pkg.add(\"Plots\")"
      ]
    },
    {
      "cell_type": "markdown",
      "id": "b0c0f53b-93bc-4baa-8b0e-bdb58e8ff961",
      "metadata": {},
      "source": [
        "This next cell loads packages which are required for the rest of the\n",
        "code evaluation. In this case, we only need to load the `Plots.jl`\n",
        "plotting package, but you will see others over the course of the\n",
        "semester (and can add more if desired; just make sure that you’ve [added\n",
        "the new packages to the\n",
        "environment](https://viveks.me/environmental-systems-analysis/tutorials/julia-basics.html#package-management)).\n",
        "Standard Julia practice is to load all of the needed packages at the top\n",
        "of the file.\n",
        "\n",
        "> **Warning**\n",
        ">\n",
        "> Loading packages can take a while, especially the first time! Julia\n",
        "> tries to precompile all of the packages you’re using so repeat use is\n",
        "> faster, but this can be quite slow at first."
      ]
    },
    {
      "cell_type": "code",
      "execution_count": 205,
      "id": "4",
      "metadata": {},
      "outputs": [],
      "source": [
        "using Plots"
      ]
    },
    {
      "cell_type": "markdown",
      "id": "6d2bc421-d992-4864-a390-fd6d7820f6c0",
      "metadata": {},
      "source": [
        "## Introduction\n",
        "\n",
        "### Julia\n",
        "\n",
        "Julia is an up-and-coming language, originally developed for scientific\n",
        "programming. While learning a new programming language always has its\n",
        "hiccups, the good news is that if you’ve programmed in a high-level\n",
        "language such as Python or MATLAB, most Julia concepts should look\n",
        "familiar.\n",
        "\n",
        "If you have not successfully set up Julia, follow the instructions in\n",
        "[Tools\n",
        "Setup](https://viveks.me/environmental-systems-analysis/setup.html)\n",
        "and/or ask for help.\n",
        "\n",
        "You can use other editors for this course, but our recommendation is\n",
        "[Visual Studio Code](https://code.visualstudio.com/) with the [Julia\n",
        "extension](https://marketplace.visualstudio.com/items?itemName=julialang.language-julia),\n",
        "which will make life a *lot* simpler! You should have set this up by\n",
        "following the [Tools\n",
        "Setup](https://viveks.me/environmental-systems-analysis/setup.html)\n",
        "instructions, but if not, do so now and/or ask for help.\n",
        "\n",
        "### Jupyter Notebooks\n",
        "\n",
        "Jupyter notebooks integrate text and equations in Markdown with Julia\n",
        "(or Python, or R) code. To do this, Jupyter notebooks consist of two\n",
        "types of “cells”: code cells and Markdown (text) cells.\n",
        "\n",
        "Click once on this section of text. A box will appear around this text\n",
        "(and some areas above/below it) - all of that is within this cell.\n",
        "\n",
        "Markdown is a text markup framework for formatting language that makes\n",
        "things look pretty when viewed across different platforms: web browsers,\n",
        "notebooks, and so forth. Text written in Markdown can also include\n",
        "hyperlinks, LaTeX equations, section headers, and images, among other\n",
        "features (most of [the course\n",
        "website](https://viveks.me/climate-risk-analysis) and the lecture notes\n",
        "were all written in Markdown!). [Here is a basic Markdown cheat\n",
        "sheet](https://www.markdownguide.org/cheat-sheet/).\n",
        "\n",
        "What you are looking at right now is the formatted text after the\n",
        "Markdown is processed. To see the raw Markdown, do one of:\n",
        "\n",
        "-   press `Enter` while that cell is selected, or\n",
        "-   double-click on that cell.\n",
        "\n",
        "------------------------------------------------------------------------\n",
        "\n",
        "A couple of the features you will see in this Markdown cell:\n",
        "\n",
        "-   The `---` command creates a horizontal line. This is also nice for\n",
        "    separating sections.\n",
        "-   Backticks (`` `...` ``) can be used to format and highlight code,\n",
        "    keystrokes, etc.\n",
        "-   The `#` sign is used to create a new section header; two `#` signs\n",
        "    (`##`) is used to create a new subsection header; `###` creates a\n",
        "    subsubsection, and so on.\n",
        "-   You can create a bulleted list by using the asterisk `*` or a dash\n",
        "    `-` and a space.\n",
        "-   You can create regular text by just typing as usual.\n",
        "-   You can create **bold-faced text** by wrapping it with two asterisks\n",
        "    on both sides.\n",
        "-   You can create *italicized text* by wrapping it with a single\n",
        "    asterisk on both sides.\n",
        "-   To create a new paragraph, you must include a blank line between the\n",
        "    old and new paragraphs.\n",
        "\n",
        "At this point you might be wondering how to turn this cell back into the\n",
        "fully formatted Markdown text instead of the raw Markdown you’re\n",
        "probably still looking at. You have a couple of options, depending on\n",
        "your platform, but the most consistent is to type `Shift + Enter` to\n",
        "**execute** the cell (this is also how to run code, but more on that\n",
        "later).\n",
        "\n",
        "Additionally, you will frequently need to create new cells in your\n",
        "Jupyter notebooks. How you do this will depend on how you interact with\n",
        "the notebook, but try to figure this out now.\n",
        "\n",
        "One tip is to think carefully about what bits of code should be in the\n",
        "same cell, as you typically only see output from the last command in a\n",
        "cell. For example, compare the following:"
      ]
    },
    {
      "cell_type": "code",
      "execution_count": 206,
      "id": "6",
      "metadata": {},
      "outputs": [
        {
          "data": {
            "text/plain": [
              "-0.9589242746631385"
            ]
          },
          "metadata": {},
          "output_type": "display_data"
        }
      ],
      "source": [
        "x = 5\n",
        "sin(x)"
      ]
    },
    {
      "cell_type": "markdown",
      "id": "0b56a2f1-81e8-4426-b62a-95cfc3933b92",
      "metadata": {},
      "source": [
        "with"
      ]
    },
    {
      "cell_type": "code",
      "execution_count": 207,
      "id": "8",
      "metadata": {},
      "outputs": [
        {
          "data": {
            "text/plain": [
              "5"
            ]
          },
          "metadata": {},
          "output_type": "display_data"
        }
      ],
      "source": [
        "x = 5"
      ]
    },
    {
      "cell_type": "code",
      "execution_count": 208,
      "id": "10",
      "metadata": {},
      "outputs": [
        {
          "data": {
            "text/plain": [
              "-0.9589242746631385"
            ]
          },
          "metadata": {},
          "output_type": "display_data"
        }
      ],
      "source": [
        "sin(x)"
      ]
    },
    {
      "cell_type": "markdown",
      "id": "474d541d-93e6-47e1-874f-80abd6c9d7cc",
      "metadata": {},
      "source": [
        "In Julia, you can also suppress the output of a command with a\n",
        "semi-colon:"
      ]
    },
    {
      "cell_type": "code",
      "execution_count": 209,
      "id": "12",
      "metadata": {},
      "outputs": [],
      "source": [
        "sin(x);"
      ]
    },
    {
      "cell_type": "markdown",
      "id": "e5950d08-d04e-4fc7-bed8-33e0ee9a1909",
      "metadata": {},
      "source": [
        "which can help if you want to split some code out for clarity or to\n",
        "insert some text prior to it, but don’t want to clutter the notebook\n",
        "with its output.\n",
        "\n",
        "For code cells, to execute the commands within the cell, we also press\n",
        "`Shift+Enter`.\n",
        "\n",
        "Finally, **make sure that you evaluate all of the code cells in order\n",
        "before submitting**. One bad outcome with notebooks occurs when cells\n",
        "are evaluated out of order, so fixed bugs and edits in previous cells do\n",
        "not get a chance to propagate down. You can do this with the `Run All`\n",
        "command in whichever interface you’re using to edit your notebook.\n",
        "\n",
        "### Julia Basics\n",
        "\n",
        "There are many tutorials and references for Julia, including a [basics\n",
        "overview on the class website](../tutorials/julia-basics.html). Please\n",
        "feel free to reference these as you work through any part of the course.\n",
        "\n",
        "### Formatting Math\n",
        "\n",
        "It will often be helpful to include nicely-formatted mathematics in a\n",
        "notebook. Markdown accomodates this using LaTeX syntax. A LaTeX\n",
        "cheatsheet is available on the class website, and many other guides\n",
        "exist online.\n",
        "\n",
        "Below is an example of a formatted equation: $$x = 5.$$\n",
        "\n",
        "### Looking For Help\n",
        "\n",
        "There is no shame in using Google, or other resources, for help when\n",
        "programming. There are many, many times when you can’t quite get the\n",
        "syntax to work, can’t quite figure out the right package or command to\n",
        "use, or are feeling too lazy or overwhelmed (I’m not judging either of\n",
        "those!) to dig through the documentation. Some good resources include:\n",
        "\n",
        "-   [Stack Overflow](https://stackoverflow.com/) is a treasure trove of\n",
        "    answers;\n",
        "-   The [official Julia forum](https://discourse.julialang.org/) and the\n",
        "    [Julia Subreddit](https://www.reddit.com/r/Julia/) are also very\n",
        "    useful.\n",
        "\n",
        "You are also highly encouraged to post on [Ed\n",
        "Discussion](https://us.edstem.org), though getting a response might be\n",
        "less immediate. Just be mindful that to get good answers, [you have to\n",
        "help people help you](https://stackoverflow.com/help/how-to-ask), and\n",
        "**make sure to give credit to any resources that were helpful**!\n",
        "\n",
        "## Exercises (3 points)\n",
        "\n",
        "Use your understanding of Julia syntax and the GitHub workflow to\n",
        "complete the following (hopefully short) exercises. Convert your\n",
        "completed lab assignment to a PDF and submit it to the Gradescope\n",
        "Assignment “Lab 1”.\n",
        "\n",
        "**Remember to**:\n",
        "\n",
        "-   Include a (succint but clear) writeup of the core idea underlying\n",
        "    your code, through some combination of equations, text, and\n",
        "    algorithms. As you are not required to submit your code, we will not\n",
        "    be looking at it in detail, and instead will rely on those writeups\n",
        "    to assess whether your approach is correct.\n",
        "-   If using the notebook, evaluate all of your code cells, in order\n",
        "    (using a `Run All` command). This will make sure all output is\n",
        "    visible and that the code cells were evaluated in the correct order.\n",
        "-   Tag each of the problems when you submit to Gradescope; a 10%\n",
        "    penalty will be deducted if this is not done.\n",
        "\n",
        "### Computing a Dot Product\n",
        "\n",
        "Given two numeric arrays `x` and `y`, write a function to compute their\n",
        "dot product if they have equal length, and return an error if not (this\n",
        "is useful for debugging!). Use the following code as a starting point."
      ]
    },
    {
      "cell_type": "code",
      "execution_count": 210,
      "id": "14",
      "metadata": {},
      "outputs": [
        {
          "data": {
            "text/plain": [
              "dot_product (generic function with 1 method)"
            ]
          },
          "metadata": {},
          "output_type": "display_data"
        }
      ],
      "source": [
        "function dot_product(x, y)\n",
        "    if length(x) == length(y)# insert test condition for equal lengths\n",
        "        Total=0;\n",
        "        product=0;\n",
        "        for i in 1:length(x)\n",
        "            product=x[i]*y[i];\n",
        "            Total=Total+product;\n",
        "        end\n",
        "        Total # compute and return dot product\n",
        "    else\n",
        "        throw(DimensionMismatch(\"length of x not equal to length of y\"))\n",
        "    end\n",
        "end"
      ]
    },
    {
      "cell_type": "markdown",
      "id": "e0ce47a6-a5e8-4cd8-a776-5b04adfa6330",
      "metadata": {},
      "source": [
        "Here are some tests to make sure your code works as intended. Tests like\n",
        "these are useful to make sure everything works as intended. One reason\n",
        "to split your code up into functions is that it makes it straightforward\n",
        "to write tests to make sure each piece of your code works, which makes\n",
        "it easier to identify where errors are occuring."
      ]
    },
    {
      "cell_type": "code",
      "execution_count": 211,
      "id": "16",
      "metadata": {},
      "outputs": [
        {
          "data": {
            "text/plain": [
              "32"
            ]
          },
          "metadata": {},
          "output_type": "display_data"
        }
      ],
      "source": [
        "dot_product([1 2 3], [4 5 6])"
      ]
    },
    {
      "cell_type": "markdown",
      "id": "37f85171-25e8-4513-b57c-af25ff4378e7",
      "metadata": {},
      "source": [
        "If you know the value you should get, you can write a more formal test\n",
        "using the `@assert` macro, which is a good way to “automate” checking\n",
        "(since you get an obvious error if the code doesn’t work as desired):"
      ]
    },
    {
      "cell_type": "code",
      "execution_count": 212,
      "id": "18",
      "metadata": {},
      "outputs": [],
      "source": [
        "@assert dot_product([1 2 3], [4 5 6]) == 32\n"
      ]
    },
    {
      "cell_type": "markdown",
      "id": "65ccdcd8-449e-4f0c-8f4e-7953ea267f8d",
      "metadata": {},
      "source": [
        "Let’s also make sure we get an error when the dimensions of the two\n",
        "vectors don’t match:"
      ]
    },
    {
      "cell_type": "code",
      "execution_count": 213,
      "id": "20",
      "metadata": {},
      "outputs": [
        {
          "ename": "DimensionMismatch",
          "evalue": "DimensionMismatch: length of x not equal to length of y",
          "output_type": "error",
          "traceback": [
            "DimensionMismatch: length of x not equal to length of y\n",
            "\n",
            "Stacktrace:\n",
            " [1] dot_product(x::Matrix{Int64}, y::Matrix{Int64})\n",
            "   @ Main ~/Downloads/jl_notebook_cell_df34fa98e69747e1a8f8a730347b8e2f_X15sZmlsZQ==.jl:11\n",
            " [2] top-level scope\n",
            "   @ ~/Downloads/jl_notebook_cell_df34fa98e69747e1a8f8a730347b8e2f_X24sZmlsZQ==.jl:1"
          ]
        }
      ],
      "source": [
        "dot_product([1 2 3], [4 5])"
      ]
    },
    {
      "cell_type": "markdown",
      "id": "8c069a05-159a-43b4-aa3f-d1fec9a2f727",
      "metadata": {},
      "source": [
        "### Making a Plot\n",
        "\n",
        "Write a function to compute the square of an integer `x`. Evaluate this\n",
        "function for integers between $x=-5$ and $x=5$ and make a plot of the\n",
        "squared values (you can find a quick guide to making various types of\n",
        "plots\n",
        "[here](https://viveks.me/environmental-systems-analysis/tutorials/julia-plots.html)).\n",
        "Make sure to label your axes."
      ]
    },
    {
      "cell_type": "code",
      "execution_count": 214,
      "id": "22",
      "metadata": {},
      "outputs": [
        {
          "data": {
            "image/png": "[encoded data removed]",
            "image/svg+xml": [
              "<?xml version=\"1.0\" encoding=\"utf-8\"?>\n",
              "<svg xmlns=\"http://www.w3.org/2000/svg\" xmlns:xlink=\"http://www.w3.org/1999/xlink\" width=\"600\" height=\"400\" viewBox=\"0 0 2400 1600\">\n",
              "<defs>\n",
              "  <clipPath id=\"clip570\">\n",
              "    <rect x=\"0\" y=\"0\" width=\"2400\" height=\"1600\"/>\n",
              "  </clipPath>\n",
              "</defs>\n",
              "<path clip-path=\"url(#clip570)\" d=\"M0 1600 L2400 1600 L2400 8.88178e-14 L0 8.88178e-14  Z\" fill=\"#ffffff\" fill-rule=\"evenodd\" fill-opacity=\"1\"/>\n",
              "<defs>\n",
              "  <clipPath id=\"clip571\">\n",
              "    <rect x=\"480\" y=\"0\" width=\"1681\" height=\"1600\"/>\n",
              "  </clipPath>\n",
              "</defs>\n",
              "<path clip-path=\"url(#clip570)\" d=\"M203.964 1423.18 L2352.76 1423.18 L2352.76 47.2441 L203.964 47.2441  Z\" fill=\"#ffffff\" fill-rule=\"evenodd\" fill-opacity=\"1\"/>\n",
              "<defs>\n",
              "  <clipPath id=\"clip572\">\n",
              "    <rect x=\"203\" y=\"47\" width=\"2150\" height=\"1377\"/>\n",
              "  </clipPath>\n",
              "</defs>\n",
              "<polyline clip-path=\"url(#clip572)\" style=\"stroke:#000000; stroke-linecap:round; stroke-linejoin:round; stroke-width:2; stroke-opacity:0.1; fill:none\" points=\"467.495,1423.18 467.495,47.2441 \"/>\n",
              "<polyline clip-path=\"url(#clip572)\" style=\"stroke:#000000; stroke-linecap:round; stroke-linejoin:round; stroke-width:2; stroke-opacity:0.1; fill:none\" points=\"872.927,1423.18 872.927,47.2441 \"/>\n",
              "<polyline clip-path=\"url(#clip572)\" style=\"stroke:#000000; stroke-linecap:round; stroke-linejoin:round; stroke-width:2; stroke-opacity:0.1; fill:none\" points=\"1278.36,1423.18 1278.36,47.2441 \"/>\n",
              "<polyline clip-path=\"url(#clip572)\" style=\"stroke:#000000; stroke-linecap:round; stroke-linejoin:round; stroke-width:2; stroke-opacity:0.1; fill:none\" points=\"1683.79,1423.18 1683.79,47.2441 \"/>\n",
              "<polyline clip-path=\"url(#clip572)\" style=\"stroke:#000000; stroke-linecap:round; stroke-linejoin:round; stroke-width:2; stroke-opacity:0.1; fill:none\" points=\"2089.22,1423.18 2089.22,47.2441 \"/>\n",
              "<polyline clip-path=\"url(#clip572)\" style=\"stroke:#000000; stroke-linecap:round; stroke-linejoin:round; stroke-width:2; stroke-opacity:0.1; fill:none\" points=\"203.964,1384.24 2352.76,1384.24 \"/>\n",
              "<polyline clip-path=\"url(#clip572)\" style=\"stroke:#000000; stroke-linecap:round; stroke-linejoin:round; stroke-width:2; stroke-opacity:0.1; fill:none\" points=\"203.964,1124.63 2352.76,1124.63 \"/>\n",
              "<polyline clip-path=\"url(#clip572)\" style=\"stroke:#000000; stroke-linecap:round; stroke-linejoin:round; stroke-width:2; stroke-opacity:0.1; fill:none\" points=\"203.964,865.017 2352.76,865.017 \"/>\n",
              "<polyline clip-path=\"url(#clip572)\" style=\"stroke:#000000; stroke-linecap:round; stroke-linejoin:round; stroke-width:2; stroke-opacity:0.1; fill:none\" points=\"203.964,605.407 2352.76,605.407 \"/>\n",
              "<polyline clip-path=\"url(#clip572)\" style=\"stroke:#000000; stroke-linecap:round; stroke-linejoin:round; stroke-width:2; stroke-opacity:0.1; fill:none\" points=\"203.964,345.796 2352.76,345.796 \"/>\n",
              "<polyline clip-path=\"url(#clip572)\" style=\"stroke:#000000; stroke-linecap:round; stroke-linejoin:round; stroke-width:2; stroke-opacity:0.1; fill:none\" points=\"203.964,86.1857 2352.76,86.1857 \"/>\n",
              "<polyline clip-path=\"url(#clip570)\" style=\"stroke:#000000; stroke-linecap:round; stroke-linejoin:round; stroke-width:4; stroke-opacity:1; fill:none\" points=\"203.964,1423.18 2352.76,1423.18 \"/>\n",
              "<polyline clip-path=\"url(#clip570)\" style=\"stroke:#000000; stroke-linecap:round; stroke-linejoin:round; stroke-width:4; stroke-opacity:1; fill:none\" points=\"467.495,1423.18 467.495,1404.28 \"/>\n",
              "<polyline clip-path=\"url(#clip570)\" style=\"stroke:#000000; stroke-linecap:round; stroke-linejoin:round; stroke-width:4; stroke-opacity:1; fill:none\" points=\"872.927,1423.18 872.927,1404.28 \"/>\n",
              "<polyline clip-path=\"url(#clip570)\" style=\"stroke:#000000; stroke-linecap:round; stroke-linejoin:round; stroke-width:4; stroke-opacity:1; fill:none\" points=\"1278.36,1423.18 1278.36,1404.28 \"/>\n",
              "<polyline clip-path=\"url(#clip570)\" style=\"stroke:#000000; stroke-linecap:round; stroke-linejoin:round; stroke-width:4; stroke-opacity:1; fill:none\" points=\"1683.79,1423.18 1683.79,1404.28 \"/>\n",
              "<polyline clip-path=\"url(#clip570)\" style=\"stroke:#000000; stroke-linecap:round; stroke-linejoin:round; stroke-width:4; stroke-opacity:1; fill:none\" points=\"2089.22,1423.18 2089.22,1404.28 \"/>\n",
              "<path clip-path=\"url(#clip570)\" d=\"M436.395 1468.75 L466.071 1468.75 L466.071 1472.69 L436.395 1472.69 L436.395 1468.75 Z\" fill=\"#000000\" fill-rule=\"nonzero\" fill-opacity=\"1\" /><path clip-path=\"url(#clip570)\" d=\"M489.011 1455.09 L477.205 1473.54 L489.011 1473.54 L489.011 1455.09 M487.784 1451.02 L493.664 1451.02 L493.664 1473.54 L498.594 1473.54 L498.594 1477.43 L493.664 1477.43 L493.664 1485.58 L489.011 1485.58 L489.011 1477.43 L473.409 1477.43 L473.409 1472.92 L487.784 1451.02 Z\" fill=\"#000000\" fill-rule=\"nonzero\" fill-opacity=\"1\" /><path clip-path=\"url(#clip570)\" d=\"M842.87 1468.75 L872.545 1468.75 L872.545 1472.69 L842.87 1472.69 L842.87 1468.75 Z\" fill=\"#000000\" fill-rule=\"nonzero\" fill-opacity=\"1\" /><path clip-path=\"url(#clip570)\" d=\"M886.666 1481.64 L902.985 1481.64 L902.985 1485.58 L881.041 1485.58 L881.041 1481.64 Q883.703 1478.89 888.286 1474.26 Q892.892 1469.61 894.073 1468.27 Q896.318 1465.74 897.198 1464.01 Q898.101 1462.25 898.101 1460.56 Q898.101 1457.8 896.156 1456.07 Q894.235 1454.33 891.133 1454.33 Q888.934 1454.33 886.48 1455.09 Q884.05 1455.86 881.272 1457.41 L881.272 1452.69 Q884.096 1451.55 886.55 1450.97 Q889.004 1450.39 891.041 1450.39 Q896.411 1450.39 899.605 1453.08 Q902.8 1455.77 902.8 1460.26 Q902.8 1462.39 901.99 1464.31 Q901.203 1466.2 899.096 1468.8 Q898.517 1469.47 895.416 1472.69 Q892.314 1475.88 886.666 1481.64 Z\" fill=\"#000000\" fill-rule=\"nonzero\" fill-opacity=\"1\" /><path clip-path=\"url(#clip570)\" d=\"M1278.36 1454.1 Q1274.75 1454.1 1272.92 1457.66 Q1271.11 1461.2 1271.11 1468.33 Q1271.11 1475.44 1272.92 1479.01 Q1274.75 1482.55 1278.36 1482.55 Q1281.99 1482.55 1283.8 1479.01 Q1285.63 1475.44 1285.63 1468.33 Q1285.63 1461.2 1283.8 1457.66 Q1281.99 1454.1 1278.36 1454.1 M1278.36 1450.39 Q1284.17 1450.39 1287.23 1455 Q1290.3 1459.58 1290.3 1468.33 Q1290.3 1477.06 1287.23 1481.67 Q1284.17 1486.25 1278.36 1486.25 Q1272.55 1486.25 1269.47 1481.67 Q1266.42 1477.06 1266.42 1468.33 Q1266.42 1459.58 1269.47 1455 Q1272.55 1450.39 1278.36 1450.39 Z\" fill=\"#000000\" fill-rule=\"nonzero\" fill-opacity=\"1\" /><path clip-path=\"url(#clip570)\" d=\"M1678.45 1481.64 L1694.76 1481.64 L1694.76 1485.58 L1672.82 1485.58 L1672.82 1481.64 Q1675.48 1478.89 1680.07 1474.26 Q1684.67 1469.61 1685.85 1468.27 Q1688.1 1465.74 1688.98 1464.01 Q1689.88 1462.25 1689.88 1460.56 Q1689.88 1457.8 1687.94 1456.07 Q1686.01 1454.33 1682.91 1454.33 Q1680.71 1454.33 1678.26 1455.09 Q1675.83 1455.86 1673.05 1457.41 L1673.05 1452.69 Q1675.88 1451.55 1678.33 1450.97 Q1680.78 1450.39 1682.82 1450.39 Q1688.19 1450.39 1691.38 1453.08 Q1694.58 1455.77 1694.58 1460.26 Q1694.58 1462.39 1693.77 1464.31 Q1692.98 1466.2 1690.88 1468.8 Q1690.3 1469.47 1687.2 1472.69 Q1684.09 1475.88 1678.45 1481.64 Z\" fill=\"#000000\" fill-rule=\"nonzero\" fill-opacity=\"1\" /><path clip-path=\"url(#clip570)\" d=\"M2092.23 1455.09 L2080.43 1473.54 L2092.23 1473.54 L2092.23 1455.09 M2091.01 1451.02 L2096.89 1451.02 L2096.89 1473.54 L2101.82 1473.54 L2101.82 1477.43 L2096.89 1477.43 L2096.89 1485.58 L2092.23 1485.58 L2092.23 1477.43 L2076.63 1477.43 L2076.63 1472.92 L2091.01 1451.02 Z\" fill=\"#000000\" fill-rule=\"nonzero\" fill-opacity=\"1\" /><path clip-path=\"url(#clip570)\" d=\"M1218.44 1532.4 L1205.55 1549.74 L1219.11 1568.04 L1212.2 1568.04 L1201.83 1554.04 L1191.45 1568.04 L1184.55 1568.04 L1198.39 1549.39 L1185.72 1532.4 L1192.63 1532.4 L1202.08 1545.1 L1211.54 1532.4 L1218.44 1532.4 Z\" fill=\"#000000\" fill-rule=\"nonzero\" fill-opacity=\"1\" /><path clip-path=\"url(#clip570)\" d=\"M1224.43 1547.58 L1241.58 1547.58 L1241.58 1552.8 L1224.43 1552.8 L1224.43 1547.58 Z\" fill=\"#000000\" fill-rule=\"nonzero\" fill-opacity=\"1\" /><path clip-path=\"url(#clip570)\" d=\"M1267.11 1550.12 Q1260.01 1550.12 1257.27 1551.75 Q1254.54 1553.37 1254.54 1557.29 Q1254.54 1560.4 1256.57 1562.25 Q1258.64 1564.07 1262.17 1564.07 Q1267.04 1564.07 1269.97 1560.63 Q1272.93 1557.16 1272.93 1551.43 L1272.93 1550.12 L1267.11 1550.12 M1278.79 1547.71 L1278.79 1568.04 L1272.93 1568.04 L1272.93 1562.63 Q1270.93 1565.88 1267.94 1567.44 Q1264.94 1568.97 1260.62 1568.97 Q1255.14 1568.97 1251.89 1565.91 Q1248.68 1562.82 1248.68 1557.67 Q1248.68 1551.65 1252.69 1548.6 Q1256.73 1545.54 1264.72 1545.54 L1272.93 1545.54 L1272.93 1544.97 Q1272.93 1540.93 1270.26 1538.73 Q1267.62 1536.5 1262.81 1536.5 Q1259.76 1536.5 1256.86 1537.23 Q1253.96 1537.97 1251.29 1539.43 L1251.29 1534.02 Q1254.5 1532.78 1257.53 1532.17 Q1260.55 1531.54 1263.42 1531.54 Q1271.15 1531.54 1274.97 1535.55 Q1278.79 1539.56 1278.79 1547.71 Z\" fill=\"#000000\" fill-rule=\"nonzero\" fill-opacity=\"1\" /><path clip-path=\"url(#clip570)\" d=\"M1320.48 1532.4 L1307.59 1549.74 L1321.15 1568.04 L1314.25 1568.04 L1303.87 1554.04 L1293.49 1568.04 L1286.59 1568.04 L1300.43 1549.39 L1287.77 1532.4 L1294.67 1532.4 L1304.12 1545.1 L1313.58 1532.4 L1320.48 1532.4 Z\" fill=\"#000000\" fill-rule=\"nonzero\" fill-opacity=\"1\" /><path clip-path=\"url(#clip570)\" d=\"M1329.43 1532.4 L1335.29 1532.4 L1335.29 1568.04 L1329.43 1568.04 L1329.43 1532.4 M1329.43 1518.52 L1335.29 1518.52 L1335.29 1525.93 L1329.43 1525.93 L1329.43 1518.52 Z\" fill=\"#000000\" fill-rule=\"nonzero\" fill-opacity=\"1\" /><path clip-path=\"url(#clip570)\" d=\"M1370.26 1533.45 L1370.26 1538.98 Q1367.78 1537.71 1365.11 1537.07 Q1362.43 1536.44 1359.57 1536.44 Q1355.21 1536.44 1353.01 1537.77 Q1350.85 1539.11 1350.85 1541.79 Q1350.85 1543.82 1352.41 1545 Q1353.97 1546.15 1358.68 1547.2 L1360.68 1547.64 Q1366.92 1548.98 1369.53 1551.43 Q1372.17 1553.85 1372.17 1558.21 Q1372.17 1563.17 1368.23 1566.07 Q1364.31 1568.97 1357.44 1568.97 Q1354.57 1568.97 1351.45 1568.39 Q1348.37 1567.85 1344.93 1566.74 L1344.93 1560.69 Q1348.18 1562.38 1351.33 1563.24 Q1354.48 1564.07 1357.57 1564.07 Q1361.7 1564.07 1363.93 1562.66 Q1366.16 1561.23 1366.16 1558.65 Q1366.16 1556.27 1364.54 1554.99 Q1362.94 1553.72 1357.5 1552.54 L1355.46 1552.07 Q1350.02 1550.92 1347.6 1548.56 Q1345.18 1546.18 1345.18 1542.04 Q1345.18 1537.01 1348.75 1534.27 Q1352.31 1531.54 1358.87 1531.54 Q1362.12 1531.54 1364.98 1532.01 Q1367.85 1532.49 1370.26 1533.45 Z\" fill=\"#000000\" fill-rule=\"nonzero\" fill-opacity=\"1\" /><polyline clip-path=\"url(#clip570)\" style=\"stroke:#000000; stroke-linecap:round; stroke-linejoin:round; stroke-width:4; stroke-opacity:1; fill:none\" points=\"203.964,1423.18 203.964,47.2441 \"/>\n",
              "<polyline clip-path=\"url(#clip570)\" style=\"stroke:#000000; stroke-linecap:round; stroke-linejoin:round; stroke-width:4; stroke-opacity:1; fill:none\" points=\"203.964,1384.24 222.861,1384.24 \"/>\n",
              "<polyline clip-path=\"url(#clip570)\" style=\"stroke:#000000; stroke-linecap:round; stroke-linejoin:round; stroke-width:4; stroke-opacity:1; fill:none\" points=\"203.964,1124.63 222.861,1124.63 \"/>\n",
              "<polyline clip-path=\"url(#clip570)\" style=\"stroke:#000000; stroke-linecap:round; stroke-linejoin:round; stroke-width:4; stroke-opacity:1; fill:none\" points=\"203.964,865.017 222.861,865.017 \"/>\n",
              "<polyline clip-path=\"url(#clip570)\" style=\"stroke:#000000; stroke-linecap:round; stroke-linejoin:round; stroke-width:4; stroke-opacity:1; fill:none\" points=\"203.964,605.407 222.861,605.407 \"/>\n",
              "<polyline clip-path=\"url(#clip570)\" style=\"stroke:#000000; stroke-linecap:round; stroke-linejoin:round; stroke-width:4; stroke-opacity:1; fill:none\" points=\"203.964,345.796 222.861,345.796 \"/>\n",
              "<polyline clip-path=\"url(#clip570)\" style=\"stroke:#000000; stroke-linecap:round; stroke-linejoin:round; stroke-width:4; stroke-opacity:1; fill:none\" points=\"203.964,86.1857 222.861,86.1857 \"/>\n",
              "<path clip-path=\"url(#clip570)\" d=\"M156.019 1370.04 Q152.408 1370.04 150.579 1373.6 Q148.774 1377.14 148.774 1384.27 Q148.774 1391.38 150.579 1394.94 Q152.408 1398.49 156.019 1398.49 Q159.653 1398.49 161.459 1394.94 Q163.288 1391.38 163.288 1384.27 Q163.288 1377.14 161.459 1373.6 Q159.653 1370.04 156.019 1370.04 M156.019 1366.33 Q161.829 1366.33 164.885 1370.94 Q167.964 1375.52 167.964 1384.27 Q167.964 1393 164.885 1397.61 Q161.829 1402.19 156.019 1402.19 Q150.209 1402.19 147.13 1397.61 Q144.075 1393 144.075 1384.27 Q144.075 1375.52 147.13 1370.94 Q150.209 1366.33 156.019 1366.33 Z\" fill=\"#000000\" fill-rule=\"nonzero\" fill-opacity=\"1\" /><path clip-path=\"url(#clip570)\" d=\"M147.061 1107.35 L165.417 1107.35 L165.417 1111.28 L151.343 1111.28 L151.343 1119.76 Q152.362 1119.41 153.38 1119.25 Q154.399 1119.06 155.417 1119.06 Q161.204 1119.06 164.584 1122.23 Q167.964 1125.4 167.964 1130.82 Q167.964 1136.4 164.491 1139.5 Q161.019 1142.58 154.7 1142.58 Q152.524 1142.58 150.255 1142.21 Q148.01 1141.84 145.603 1141.1 L145.603 1136.4 Q147.686 1137.53 149.908 1138.09 Q152.13 1138.64 154.607 1138.64 Q158.612 1138.64 160.95 1136.54 Q163.288 1134.43 163.288 1130.82 Q163.288 1127.21 160.95 1125.1 Q158.612 1123 154.607 1123 Q152.732 1123 150.857 1123.41 Q149.005 1123.83 147.061 1124.71 L147.061 1107.35 Z\" fill=\"#000000\" fill-rule=\"nonzero\" fill-opacity=\"1\" /><path clip-path=\"url(#clip570)\" d=\"M116.668 878.362 L124.306 878.362 L124.306 851.996 L115.996 853.663 L115.996 849.404 L124.26 847.737 L128.936 847.737 L128.936 878.362 L136.575 878.362 L136.575 882.297 L116.668 882.297 L116.668 878.362 Z\" fill=\"#000000\" fill-rule=\"nonzero\" fill-opacity=\"1\" /><path clip-path=\"url(#clip570)\" d=\"M156.019 850.816 Q152.408 850.816 150.579 854.381 Q148.774 857.922 148.774 865.052 Q148.774 872.158 150.579 875.723 Q152.408 879.265 156.019 879.265 Q159.653 879.265 161.459 875.723 Q163.288 872.158 163.288 865.052 Q163.288 857.922 161.459 854.381 Q159.653 850.816 156.019 850.816 M156.019 847.112 Q161.829 847.112 164.885 851.719 Q167.964 856.302 167.964 865.052 Q167.964 873.779 164.885 878.385 Q161.829 882.969 156.019 882.969 Q150.209 882.969 147.13 878.385 Q144.075 873.779 144.075 865.052 Q144.075 856.302 147.13 851.719 Q150.209 847.112 156.019 847.112 Z\" fill=\"#000000\" fill-rule=\"nonzero\" fill-opacity=\"1\" /><path clip-path=\"url(#clip570)\" d=\"M117.663 618.752 L125.302 618.752 L125.302 592.386 L116.992 594.053 L116.992 589.793 L125.255 588.127 L129.931 588.127 L129.931 618.752 L137.57 618.752 L137.57 622.687 L117.663 622.687 L117.663 618.752 Z\" fill=\"#000000\" fill-rule=\"nonzero\" fill-opacity=\"1\" /><path clip-path=\"url(#clip570)\" d=\"M147.061 588.127 L165.417 588.127 L165.417 592.062 L151.343 592.062 L151.343 600.534 Q152.362 600.187 153.38 600.025 Q154.399 599.84 155.417 599.84 Q161.204 599.84 164.584 603.011 Q167.964 606.182 167.964 611.599 Q167.964 617.177 164.491 620.279 Q161.019 623.358 154.7 623.358 Q152.524 623.358 150.255 622.988 Q148.01 622.617 145.603 621.877 L145.603 617.177 Q147.686 618.312 149.908 618.867 Q152.13 619.423 154.607 619.423 Q158.612 619.423 160.95 617.316 Q163.288 615.21 163.288 611.599 Q163.288 607.988 160.95 605.881 Q158.612 603.775 154.607 603.775 Q152.732 603.775 150.857 604.191 Q149.005 604.608 147.061 605.488 L147.061 588.127 Z\" fill=\"#000000\" fill-rule=\"nonzero\" fill-opacity=\"1\" /><path clip-path=\"url(#clip570)\" d=\"M119.885 359.141 L136.204 359.141 L136.204 363.076 L114.26 363.076 L114.26 359.141 Q116.922 356.386 121.505 351.757 Q126.112 347.104 127.292 345.761 Q129.538 343.238 130.417 341.502 Q131.32 339.743 131.32 338.053 Q131.32 335.299 129.376 333.562 Q127.455 331.826 124.353 331.826 Q122.154 331.826 119.7 332.59 Q117.269 333.354 114.492 334.905 L114.492 330.183 Q117.316 329.049 119.769 328.47 Q122.223 327.891 124.26 327.891 Q129.63 327.891 132.825 330.576 Q136.019 333.262 136.019 337.752 Q136.019 339.882 135.209 341.803 Q134.422 343.701 132.316 346.294 Q131.737 346.965 128.635 350.183 Q125.533 353.377 119.885 359.141 Z\" fill=\"#000000\" fill-rule=\"nonzero\" fill-opacity=\"1\" /><path clip-path=\"url(#clip570)\" d=\"M156.019 331.595 Q152.408 331.595 150.579 335.16 Q148.774 338.701 148.774 345.831 Q148.774 352.937 150.579 356.502 Q152.408 360.044 156.019 360.044 Q159.653 360.044 161.459 356.502 Q163.288 352.937 163.288 345.831 Q163.288 338.701 161.459 335.16 Q159.653 331.595 156.019 331.595 M156.019 327.891 Q161.829 327.891 164.885 332.498 Q167.964 337.081 167.964 345.831 Q167.964 354.558 164.885 359.164 Q161.829 363.747 156.019 363.747 Q150.209 363.747 147.13 359.164 Q144.075 354.558 144.075 345.831 Q144.075 337.081 147.13 332.498 Q150.209 327.891 156.019 327.891 Z\" fill=\"#000000\" fill-rule=\"nonzero\" fill-opacity=\"1\" /><path clip-path=\"url(#clip570)\" d=\"M120.88 99.5305 L137.2 99.5305 L137.2 103.466 L115.256 103.466 L115.256 99.5305 Q117.918 96.7759 122.501 92.1463 Q127.107 87.4935 128.288 86.151 Q130.533 83.6278 131.413 81.8917 Q132.316 80.1325 132.316 78.4427 Q132.316 75.688 130.371 73.9519 Q128.45 72.2158 125.348 72.2158 Q123.149 72.2158 120.695 72.9797 Q118.265 73.7436 115.487 75.2945 L115.487 70.5723 Q118.311 69.4381 120.765 68.8594 Q123.218 68.2807 125.255 68.2807 Q130.626 68.2807 133.82 70.9658 Q137.015 73.651 137.015 78.1417 Q137.015 80.2714 136.204 82.1926 Q135.417 84.0908 133.311 86.6834 Q132.732 87.3546 129.63 90.5722 Q126.529 93.7667 120.88 99.5305 Z\" fill=\"#000000\" fill-rule=\"nonzero\" fill-opacity=\"1\" /><path clip-path=\"url(#clip570)\" d=\"M147.061 68.9057 L165.417 68.9057 L165.417 72.8408 L151.343 72.8408 L151.343 81.313 Q152.362 80.9658 153.38 80.8038 Q154.399 80.6186 155.417 80.6186 Q161.204 80.6186 164.584 83.7899 Q167.964 86.9611 167.964 92.3778 Q167.964 97.9564 164.491 101.058 Q161.019 104.137 154.7 104.137 Q152.524 104.137 150.255 103.767 Q148.01 103.396 145.603 102.655 L145.603 97.9564 Q147.686 99.0907 149.908 99.6462 Q152.13 100.202 154.607 100.202 Q158.612 100.202 160.95 98.0953 Q163.288 95.9889 163.288 92.3778 Q163.288 88.7667 160.95 86.6602 Q158.612 84.5537 154.607 84.5537 Q152.732 84.5537 150.857 84.9704 Q149.005 85.3871 147.061 86.2667 L147.061 68.9057 Z\" fill=\"#000000\" fill-rule=\"nonzero\" fill-opacity=\"1\" /><path clip-path=\"url(#clip570)\" d=\"M67.3143 809.388 Q73.68 811.871 75.6216 814.226 Q77.5631 816.582 77.5631 820.528 L77.5631 825.207 L72.6615 825.207 L72.6615 821.77 Q72.6615 819.351 71.5157 818.014 Q70.3699 816.677 66.1048 815.054 L63.4312 814.004 L28.3562 828.422 L28.3562 822.215 L56.238 811.075 L28.3562 799.935 L28.3562 793.729 L67.3143 809.388 Z\" fill=\"#000000\" fill-rule=\"nonzero\" fill-opacity=\"1\" /><path clip-path=\"url(#clip570)\" d=\"M43.5384 789.75 L43.5384 772.595 L48.7583 772.595 L48.7583 789.75 L43.5384 789.75 Z\" fill=\"#000000\" fill-rule=\"nonzero\" fill-opacity=\"1\" /><path clip-path=\"url(#clip570)\" d=\"M46.0847 747.068 Q46.0847 754.166 47.7079 756.903 Q49.3312 759.64 53.2461 759.64 Q56.3653 759.64 58.2114 757.603 Q60.0256 755.534 60.0256 752.002 Q60.0256 747.132 56.5881 744.204 Q53.1188 741.243 47.3897 741.243 L46.0847 741.243 L46.0847 747.068 M43.6657 735.387 L64.0042 735.387 L64.0042 741.243 L58.5933 741.243 Q61.8398 743.249 63.3994 746.241 Q64.9272 749.232 64.9272 753.561 Q64.9272 759.036 61.8716 762.282 Q58.7843 765.497 53.6281 765.497 Q47.6125 765.497 44.5569 761.486 Q41.5014 757.444 41.5014 749.455 L41.5014 741.243 L40.9285 741.243 Q36.8862 741.243 34.6901 743.917 Q32.4621 746.559 32.4621 751.365 Q32.4621 754.42 33.1941 757.317 Q33.9262 760.213 35.3903 762.887 L29.9795 762.887 Q28.7381 759.672 28.1334 756.648 Q27.4968 753.625 27.4968 750.76 Q27.4968 743.026 31.5072 739.206 Q35.5176 735.387 43.6657 735.387 Z\" fill=\"#000000\" fill-rule=\"nonzero\" fill-opacity=\"1\" /><path clip-path=\"url(#clip570)\" d=\"M28.3562 693.692 L45.7028 706.582 L64.0042 693.023 L64.0042 699.93 L49.9996 710.306 L64.0042 720.682 L64.0042 727.589 L45.3526 713.744 L28.3562 726.411 L28.3562 719.505 L41.0558 710.052 L28.3562 700.598 L28.3562 693.692 Z\" fill=\"#000000\" fill-rule=\"nonzero\" fill-opacity=\"1\" /><path clip-path=\"url(#clip570)\" d=\"M28.3562 684.748 L28.3562 678.891 L64.0042 678.891 L64.0042 684.748 L28.3562 684.748 M14.479 684.748 L14.479 678.891 L21.895 678.891 L21.895 684.748 L14.479 684.748 Z\" fill=\"#000000\" fill-rule=\"nonzero\" fill-opacity=\"1\" /><path clip-path=\"url(#clip570)\" d=\"M29.4065 643.912 L34.9447 643.912 Q33.6716 646.394 33.035 649.068 Q32.3984 651.742 32.3984 654.606 Q32.3984 658.967 33.7352 661.163 Q35.072 663.327 37.7456 663.327 Q39.7826 663.327 40.9603 661.768 Q42.1061 660.208 43.1565 655.497 L43.6021 653.492 Q44.9389 647.254 47.3897 644.644 Q49.8086 642.002 54.1691 642.002 Q59.1344 642.002 62.0308 645.949 Q64.9272 649.864 64.9272 656.739 Q64.9272 659.603 64.3543 662.722 Q63.8132 665.81 62.6992 669.247 L56.6518 669.247 Q58.3387 666.001 59.198 662.85 Q60.0256 659.699 60.0256 656.611 Q60.0256 652.474 58.6251 650.246 Q57.1929 648.018 54.6147 648.018 Q52.2276 648.018 50.9545 649.641 Q49.6813 651.232 48.5037 656.675 L48.0262 658.712 Q46.8804 664.155 44.5251 666.574 Q42.138 668.993 38.0002 668.993 Q32.9713 668.993 30.2341 665.428 Q27.4968 661.863 27.4968 655.306 Q27.4968 652.06 27.9743 649.195 Q28.4517 646.331 29.4065 643.912 Z\" fill=\"#000000\" fill-rule=\"nonzero\" fill-opacity=\"1\" /><polyline clip-path=\"url(#clip572)\" style=\"stroke:#c1a140; stroke-linecap:round; stroke-linejoin:round; stroke-width:4; stroke-opacity:1; fill:none\" points=\"264.778,86.1857 467.495,553.485 670.211,916.939 872.927,1176.55 1075.64,1332.32 1278.36,1384.24 1481.08,1332.32 1683.79,1176.55 1886.51,916.939 2089.22,553.485 2291.94,86.1857 \"/>\n",
              "<path clip-path=\"url(#clip570)\" d=\"M2013.82 1377.32 L2281.13 1377.32 L2281.13 1273.64 L2013.82 1273.64  Z\" fill=\"#ffffff\" fill-rule=\"evenodd\" fill-opacity=\"1\"/>\n",
              "<polyline clip-path=\"url(#clip570)\" style=\"stroke:#000000; stroke-linecap:round; stroke-linejoin:round; stroke-width:4; stroke-opacity:1; fill:none\" points=\"2013.82,1377.32 2281.13,1377.32 2281.13,1273.64 2013.82,1273.64 2013.82,1377.32 \"/>\n",
              "<polyline clip-path=\"url(#clip570)\" style=\"stroke:#c1a140; stroke-linecap:round; stroke-linejoin:round; stroke-width:4; stroke-opacity:1; fill:none\" points=\"2037.7,1325.48 2180.95,1325.48 \"/>\n",
              "<path clip-path=\"url(#clip570)\" d=\"M2218.67 1345.16 Q2216.86 1349.79 2215.15 1351.2 Q2213.43 1352.62 2210.56 1352.62 L2207.16 1352.62 L2207.16 1349.05 L2209.66 1349.05 Q2211.42 1349.05 2212.39 1348.22 Q2213.37 1347.38 2214.55 1344.28 L2215.31 1342.34 L2204.82 1316.83 L2209.34 1316.83 L2217.44 1337.11 L2225.54 1316.83 L2230.06 1316.83 L2218.67 1345.16 Z\" fill=\"#000000\" fill-rule=\"nonzero\" fill-opacity=\"1\" /><path clip-path=\"url(#clip570)\" d=\"M2237.35 1338.82 L2244.99 1338.82 L2244.99 1312.45 L2236.68 1314.12 L2236.68 1309.86 L2244.94 1308.2 L2249.62 1308.2 L2249.62 1338.82 L2257.25 1338.82 L2257.25 1342.76 L2237.35 1342.76 L2237.35 1338.82 Z\" fill=\"#000000\" fill-rule=\"nonzero\" fill-opacity=\"1\" /></svg>\n"
            ],
            "text/html": [
              "<?xml version=\"1.0\" encoding=\"utf-8\"?>\n",
              "<svg xmlns=\"http://www.w3.org/2000/svg\" xmlns:xlink=\"http://www.w3.org/1999/xlink\" width=\"600\" height=\"400\" viewBox=\"0 0 2400 1600\">\n",
              "<defs>\n",
              "  <clipPath id=\"clip620\">\n",
              "    <rect x=\"0\" y=\"0\" width=\"2400\" height=\"1600\"/>\n",
              "  </clipPath>\n",
              "</defs>\n",
              "<path clip-path=\"url(#clip620)\" d=\"M0 1600 L2400 1600 L2400 8.88178e-14 L0 8.88178e-14  Z\" fill=\"#ffffff\" fill-rule=\"evenodd\" fill-opacity=\"1\"/>\n",
              "<defs>\n",
              "  <clipPath id=\"clip621\">\n",
              "    <rect x=\"480\" y=\"0\" width=\"1681\" height=\"1600\"/>\n",
              "  </clipPath>\n",
              "</defs>\n",
              "<path clip-path=\"url(#clip620)\" d=\"M203.964 1423.18 L2352.76 1423.18 L2352.76 47.2441 L203.964 47.2441  Z\" fill=\"#ffffff\" fill-rule=\"evenodd\" fill-opacity=\"1\"/>\n",
              "<defs>\n",
              "  <clipPath id=\"clip622\">\n",
              "    <rect x=\"203\" y=\"47\" width=\"2150\" height=\"1377\"/>\n",
              "  </clipPath>\n",
              "</defs>\n",
              "<polyline clip-path=\"url(#clip622)\" style=\"stroke:#000000; stroke-linecap:round; stroke-linejoin:round; stroke-width:2; stroke-opacity:0.1; fill:none\" points=\"467.495,1423.18 467.495,47.2441 \"/>\n",
              "<polyline clip-path=\"url(#clip622)\" style=\"stroke:#000000; stroke-linecap:round; stroke-linejoin:round; stroke-width:2; stroke-opacity:0.1; fill:none\" points=\"872.927,1423.18 872.927,47.2441 \"/>\n",
              "<polyline clip-path=\"url(#clip622)\" style=\"stroke:#000000; stroke-linecap:round; stroke-linejoin:round; stroke-width:2; stroke-opacity:0.1; fill:none\" points=\"1278.36,1423.18 1278.36,47.2441 \"/>\n",
              "<polyline clip-path=\"url(#clip622)\" style=\"stroke:#000000; stroke-linecap:round; stroke-linejoin:round; stroke-width:2; stroke-opacity:0.1; fill:none\" points=\"1683.79,1423.18 1683.79,47.2441 \"/>\n",
              "<polyline clip-path=\"url(#clip622)\" style=\"stroke:#000000; stroke-linecap:round; stroke-linejoin:round; stroke-width:2; stroke-opacity:0.1; fill:none\" points=\"2089.22,1423.18 2089.22,47.2441 \"/>\n",
              "<polyline clip-path=\"url(#clip622)\" style=\"stroke:#000000; stroke-linecap:round; stroke-linejoin:round; stroke-width:2; stroke-opacity:0.1; fill:none\" points=\"203.964,1384.24 2352.76,1384.24 \"/>\n",
              "<polyline clip-path=\"url(#clip622)\" style=\"stroke:#000000; stroke-linecap:round; stroke-linejoin:round; stroke-width:2; stroke-opacity:0.1; fill:none\" points=\"203.964,1124.63 2352.76,1124.63 \"/>\n",
              "<polyline clip-path=\"url(#clip622)\" style=\"stroke:#000000; stroke-linecap:round; stroke-linejoin:round; stroke-width:2; stroke-opacity:0.1; fill:none\" points=\"203.964,865.017 2352.76,865.017 \"/>\n",
              "<polyline clip-path=\"url(#clip622)\" style=\"stroke:#000000; stroke-linecap:round; stroke-linejoin:round; stroke-width:2; stroke-opacity:0.1; fill:none\" points=\"203.964,605.407 2352.76,605.407 \"/>\n",
              "<polyline clip-path=\"url(#clip622)\" style=\"stroke:#000000; stroke-linecap:round; stroke-linejoin:round; stroke-width:2; stroke-opacity:0.1; fill:none\" points=\"203.964,345.796 2352.76,345.796 \"/>\n",
              "<polyline clip-path=\"url(#clip622)\" style=\"stroke:#000000; stroke-linecap:round; stroke-linejoin:round; stroke-width:2; stroke-opacity:0.1; fill:none\" points=\"203.964,86.1857 2352.76,86.1857 \"/>\n",
              "<polyline clip-path=\"url(#clip620)\" style=\"stroke:#000000; stroke-linecap:round; stroke-linejoin:round; stroke-width:4; stroke-opacity:1; fill:none\" points=\"203.964,1423.18 2352.76,1423.18 \"/>\n",
              "<polyline clip-path=\"url(#clip620)\" style=\"stroke:#000000; stroke-linecap:round; stroke-linejoin:round; stroke-width:4; stroke-opacity:1; fill:none\" points=\"467.495,1423.18 467.495,1404.28 \"/>\n",
              "<polyline clip-path=\"url(#clip620)\" style=\"stroke:#000000; stroke-linecap:round; stroke-linejoin:round; stroke-width:4; stroke-opacity:1; fill:none\" points=\"872.927,1423.18 872.927,1404.28 \"/>\n",
              "<polyline clip-path=\"url(#clip620)\" style=\"stroke:#000000; stroke-linecap:round; stroke-linejoin:round; stroke-width:4; stroke-opacity:1; fill:none\" points=\"1278.36,1423.18 1278.36,1404.28 \"/>\n",
              "<polyline clip-path=\"url(#clip620)\" style=\"stroke:#000000; stroke-linecap:round; stroke-linejoin:round; stroke-width:4; stroke-opacity:1; fill:none\" points=\"1683.79,1423.18 1683.79,1404.28 \"/>\n",
              "<polyline clip-path=\"url(#clip620)\" style=\"stroke:#000000; stroke-linecap:round; stroke-linejoin:round; stroke-width:4; stroke-opacity:1; fill:none\" points=\"2089.22,1423.18 2089.22,1404.28 \"/>\n",
              "<path clip-path=\"url(#clip620)\" d=\"M436.395 1468.75 L466.071 1468.75 L466.071 1472.69 L436.395 1472.69 L436.395 1468.75 Z\" fill=\"#000000\" fill-rule=\"nonzero\" fill-opacity=\"1\" /><path clip-path=\"url(#clip620)\" d=\"M489.011 1455.09 L477.205 1473.54 L489.011 1473.54 L489.011 1455.09 M487.784 1451.02 L493.664 1451.02 L493.664 1473.54 L498.594 1473.54 L498.594 1477.43 L493.664 1477.43 L493.664 1485.58 L489.011 1485.58 L489.011 1477.43 L473.409 1477.43 L473.409 1472.92 L487.784 1451.02 Z\" fill=\"#000000\" fill-rule=\"nonzero\" fill-opacity=\"1\" /><path clip-path=\"url(#clip620)\" d=\"M842.87 1468.75 L872.545 1468.75 L872.545 1472.69 L842.87 1472.69 L842.87 1468.75 Z\" fill=\"#000000\" fill-rule=\"nonzero\" fill-opacity=\"1\" /><path clip-path=\"url(#clip620)\" d=\"M886.666 1481.64 L902.985 1481.64 L902.985 1485.58 L881.041 1485.58 L881.041 1481.64 Q883.703 1478.89 888.286 1474.26 Q892.892 1469.61 894.073 1468.27 Q896.318 1465.74 897.198 1464.01 Q898.101 1462.25 898.101 1460.56 Q898.101 1457.8 896.156 1456.07 Q894.235 1454.33 891.133 1454.33 Q888.934 1454.33 886.48 1455.09 Q884.05 1455.86 881.272 1457.41 L881.272 1452.69 Q884.096 1451.55 886.55 1450.97 Q889.004 1450.39 891.041 1450.39 Q896.411 1450.39 899.605 1453.08 Q902.8 1455.77 902.8 1460.26 Q902.8 1462.39 901.99 1464.31 Q901.203 1466.2 899.096 1468.8 Q898.517 1469.47 895.416 1472.69 Q892.314 1475.88 886.666 1481.64 Z\" fill=\"#000000\" fill-rule=\"nonzero\" fill-opacity=\"1\" /><path clip-path=\"url(#clip620)\" d=\"M1278.36 1454.1 Q1274.75 1454.1 1272.92 1457.66 Q1271.11 1461.2 1271.11 1468.33 Q1271.11 1475.44 1272.92 1479.01 Q1274.75 1482.55 1278.36 1482.55 Q1281.99 1482.55 1283.8 1479.01 Q1285.63 1475.44 1285.63 1468.33 Q1285.63 1461.2 1283.8 1457.66 Q1281.99 1454.1 1278.36 1454.1 M1278.36 1450.39 Q1284.17 1450.39 1287.23 1455 Q1290.3 1459.58 1290.3 1468.33 Q1290.3 1477.06 1287.23 1481.67 Q1284.17 1486.25 1278.36 1486.25 Q1272.55 1486.25 1269.47 1481.67 Q1266.42 1477.06 1266.42 1468.33 Q1266.42 1459.58 1269.47 1455 Q1272.55 1450.39 1278.36 1450.39 Z\" fill=\"#000000\" fill-rule=\"nonzero\" fill-opacity=\"1\" /><path clip-path=\"url(#clip620)\" d=\"M1678.45 1481.64 L1694.76 1481.64 L1694.76 1485.58 L1672.82 1485.58 L1672.82 1481.64 Q1675.48 1478.89 1680.07 1474.26 Q1684.67 1469.61 1685.85 1468.27 Q1688.1 1465.74 1688.98 1464.01 Q1689.88 1462.25 1689.88 1460.56 Q1689.88 1457.8 1687.94 1456.07 Q1686.01 1454.33 1682.91 1454.33 Q1680.71 1454.33 1678.26 1455.09 Q1675.83 1455.86 1673.05 1457.41 L1673.05 1452.69 Q1675.88 1451.55 1678.33 1450.97 Q1680.78 1450.39 1682.82 1450.39 Q1688.19 1450.39 1691.38 1453.08 Q1694.58 1455.77 1694.58 1460.26 Q1694.58 1462.39 1693.77 1464.31 Q1692.98 1466.2 1690.88 1468.8 Q1690.3 1469.47 1687.2 1472.69 Q1684.09 1475.88 1678.45 1481.64 Z\" fill=\"#000000\" fill-rule=\"nonzero\" fill-opacity=\"1\" /><path clip-path=\"url(#clip620)\" d=\"M2092.23 1455.09 L2080.43 1473.54 L2092.23 1473.54 L2092.23 1455.09 M2091.01 1451.02 L2096.89 1451.02 L2096.89 1473.54 L2101.82 1473.54 L2101.82 1477.43 L2096.89 1477.43 L2096.89 1485.58 L2092.23 1485.58 L2092.23 1477.43 L2076.63 1477.43 L2076.63 1472.92 L2091.01 1451.02 Z\" fill=\"#000000\" fill-rule=\"nonzero\" fill-opacity=\"1\" /><path clip-path=\"url(#clip620)\" d=\"M1218.44 1532.4 L1205.55 1549.74 L1219.11 1568.04 L1212.2 1568.04 L1201.83 1554.04 L1191.45 1568.04 L1184.55 1568.04 L1198.39 1549.39 L1185.72 1532.4 L1192.63 1532.4 L1202.08 1545.1 L1211.54 1532.4 L1218.44 1532.4 Z\" fill=\"#000000\" fill-rule=\"nonzero\" fill-opacity=\"1\" /><path clip-path=\"url(#clip620)\" d=\"M1224.43 1547.58 L1241.58 1547.58 L1241.58 1552.8 L1224.43 1552.8 L1224.43 1547.58 Z\" fill=\"#000000\" fill-rule=\"nonzero\" fill-opacity=\"1\" /><path clip-path=\"url(#clip620)\" d=\"M1267.11 1550.12 Q1260.01 1550.12 1257.27 1551.75 Q1254.54 1553.37 1254.54 1557.29 Q1254.54 1560.4 1256.57 1562.25 Q1258.64 1564.07 1262.17 1564.07 Q1267.04 1564.07 1269.97 1560.63 Q1272.93 1557.16 1272.93 1551.43 L1272.93 1550.12 L1267.11 1550.12 M1278.79 1547.71 L1278.79 1568.04 L1272.93 1568.04 L1272.93 1562.63 Q1270.93 1565.88 1267.94 1567.44 Q1264.94 1568.97 1260.62 1568.97 Q1255.14 1568.97 1251.89 1565.91 Q1248.68 1562.82 1248.68 1557.67 Q1248.68 1551.65 1252.69 1548.6 Q1256.73 1545.54 1264.72 1545.54 L1272.93 1545.54 L1272.93 1544.97 Q1272.93 1540.93 1270.26 1538.73 Q1267.62 1536.5 1262.81 1536.5 Q1259.76 1536.5 1256.86 1537.23 Q1253.96 1537.97 1251.29 1539.43 L1251.29 1534.02 Q1254.5 1532.78 1257.53 1532.17 Q1260.55 1531.54 1263.42 1531.54 Q1271.15 1531.54 1274.97 1535.55 Q1278.79 1539.56 1278.79 1547.71 Z\" fill=\"#000000\" fill-rule=\"nonzero\" fill-opacity=\"1\" /><path clip-path=\"url(#clip620)\" d=\"M1320.48 1532.4 L1307.59 1549.74 L1321.15 1568.04 L1314.25 1568.04 L1303.87 1554.04 L1293.49 1568.04 L1286.59 1568.04 L1300.43 1549.39 L1287.77 1532.4 L1294.67 1532.4 L1304.12 1545.1 L1313.58 1532.4 L1320.48 1532.4 Z\" fill=\"#000000\" fill-rule=\"nonzero\" fill-opacity=\"1\" /><path clip-path=\"url(#clip620)\" d=\"M1329.43 1532.4 L1335.29 1532.4 L1335.29 1568.04 L1329.43 1568.04 L1329.43 1532.4 M1329.43 1518.52 L1335.29 1518.52 L1335.29 1525.93 L1329.43 1525.93 L1329.43 1518.52 Z\" fill=\"#000000\" fill-rule=\"nonzero\" fill-opacity=\"1\" /><path clip-path=\"url(#clip620)\" d=\"M1370.26 1533.45 L1370.26 1538.98 Q1367.78 1537.71 1365.11 1537.07 Q1362.43 1536.44 1359.57 1536.44 Q1355.21 1536.44 1353.01 1537.77 Q1350.85 1539.11 1350.85 1541.79 Q1350.85 1543.82 1352.41 1545 Q1353.97 1546.15 1358.68 1547.2 L1360.68 1547.64 Q1366.92 1548.98 1369.53 1551.43 Q1372.17 1553.85 1372.17 1558.21 Q1372.17 1563.17 1368.23 1566.07 Q1364.31 1568.97 1357.44 1568.97 Q1354.57 1568.97 1351.45 1568.39 Q1348.37 1567.85 1344.93 1566.74 L1344.93 1560.69 Q1348.18 1562.38 1351.33 1563.24 Q1354.48 1564.07 1357.57 1564.07 Q1361.7 1564.07 1363.93 1562.66 Q1366.16 1561.23 1366.16 1558.65 Q1366.16 1556.27 1364.54 1554.99 Q1362.94 1553.72 1357.5 1552.54 L1355.46 1552.07 Q1350.02 1550.92 1347.6 1548.56 Q1345.18 1546.18 1345.18 1542.04 Q1345.18 1537.01 1348.75 1534.27 Q1352.31 1531.54 1358.87 1531.54 Q1362.12 1531.54 1364.98 1532.01 Q1367.85 1532.49 1370.26 1533.45 Z\" fill=\"#000000\" fill-rule=\"nonzero\" fill-opacity=\"1\" /><polyline clip-path=\"url(#clip620)\" style=\"stroke:#000000; stroke-linecap:round; stroke-linejoin:round; stroke-width:4; stroke-opacity:1; fill:none\" points=\"203.964,1423.18 203.964,47.2441 \"/>\n",
              "<polyline clip-path=\"url(#clip620)\" style=\"stroke:#000000; stroke-linecap:round; stroke-linejoin:round; stroke-width:4; stroke-opacity:1; fill:none\" points=\"203.964,1384.24 222.861,1384.24 \"/>\n",
              "<polyline clip-path=\"url(#clip620)\" style=\"stroke:#000000; stroke-linecap:round; stroke-linejoin:round; stroke-width:4; stroke-opacity:1; fill:none\" points=\"203.964,1124.63 222.861,1124.63 \"/>\n",
              "<polyline clip-path=\"url(#clip620)\" style=\"stroke:#000000; stroke-linecap:round; stroke-linejoin:round; stroke-width:4; stroke-opacity:1; fill:none\" points=\"203.964,865.017 222.861,865.017 \"/>\n",
              "<polyline clip-path=\"url(#clip620)\" style=\"stroke:#000000; stroke-linecap:round; stroke-linejoin:round; stroke-width:4; stroke-opacity:1; fill:none\" points=\"203.964,605.407 222.861,605.407 \"/>\n",
              "<polyline clip-path=\"url(#clip620)\" style=\"stroke:#000000; stroke-linecap:round; stroke-linejoin:round; stroke-width:4; stroke-opacity:1; fill:none\" points=\"203.964,345.796 222.861,345.796 \"/>\n",
              "<polyline clip-path=\"url(#clip620)\" style=\"stroke:#000000; stroke-linecap:round; stroke-linejoin:round; stroke-width:4; stroke-opacity:1; fill:none\" points=\"203.964,86.1857 222.861,86.1857 \"/>\n",
              "<path clip-path=\"url(#clip620)\" d=\"M156.019 1370.04 Q152.408 1370.04 150.579 1373.6 Q148.774 1377.14 148.774 1384.27 Q148.774 1391.38 150.579 1394.94 Q152.408 1398.49 156.019 1398.49 Q159.653 1398.49 161.459 1394.94 Q163.288 1391.38 163.288 1384.27 Q163.288 1377.14 161.459 1373.6 Q159.653 1370.04 156.019 1370.04 M156.019 1366.33 Q161.829 1366.33 164.885 1370.94 Q167.964 1375.52 167.964 1384.27 Q167.964 1393 164.885 1397.61 Q161.829 1402.19 156.019 1402.19 Q150.209 1402.19 147.13 1397.61 Q144.075 1393 144.075 1384.27 Q144.075 1375.52 147.13 1370.94 Q150.209 1366.33 156.019 1366.33 Z\" fill=\"#000000\" fill-rule=\"nonzero\" fill-opacity=\"1\" /><path clip-path=\"url(#clip620)\" d=\"M147.061 1107.35 L165.417 1107.35 L165.417 1111.28 L151.343 1111.28 L151.343 1119.76 Q152.362 1119.41 153.38 1119.25 Q154.399 1119.06 155.417 1119.06 Q161.204 1119.06 164.584 1122.23 Q167.964 1125.4 167.964 1130.82 Q167.964 1136.4 164.491 1139.5 Q161.019 1142.58 154.7 1142.58 Q152.524 1142.58 150.255 1142.21 Q148.01 1141.84 145.603 1141.1 L145.603 1136.4 Q147.686 1137.53 149.908 1138.09 Q152.13 1138.64 154.607 1138.64 Q158.612 1138.64 160.95 1136.54 Q163.288 1134.43 163.288 1130.82 Q163.288 1127.21 160.95 1125.1 Q158.612 1123 154.607 1123 Q152.732 1123 150.857 1123.41 Q149.005 1123.83 147.061 1124.71 L147.061 1107.35 Z\" fill=\"#000000\" fill-rule=\"nonzero\" fill-opacity=\"1\" /><path clip-path=\"url(#clip620)\" d=\"M116.668 878.362 L124.306 878.362 L124.306 851.996 L115.996 853.663 L115.996 849.404 L124.26 847.737 L128.936 847.737 L128.936 878.362 L136.575 878.362 L136.575 882.297 L116.668 882.297 L116.668 878.362 Z\" fill=\"#000000\" fill-rule=\"nonzero\" fill-opacity=\"1\" /><path clip-path=\"url(#clip620)\" d=\"M156.019 850.816 Q152.408 850.816 150.579 854.381 Q148.774 857.922 148.774 865.052 Q148.774 872.158 150.579 875.723 Q152.408 879.265 156.019 879.265 Q159.653 879.265 161.459 875.723 Q163.288 872.158 163.288 865.052 Q163.288 857.922 161.459 854.381 Q159.653 850.816 156.019 850.816 M156.019 847.112 Q161.829 847.112 164.885 851.719 Q167.964 856.302 167.964 865.052 Q167.964 873.779 164.885 878.385 Q161.829 882.969 156.019 882.969 Q150.209 882.969 147.13 878.385 Q144.075 873.779 144.075 865.052 Q144.075 856.302 147.13 851.719 Q150.209 847.112 156.019 847.112 Z\" fill=\"#000000\" fill-rule=\"nonzero\" fill-opacity=\"1\" /><path clip-path=\"url(#clip620)\" d=\"M117.663 618.752 L125.302 618.752 L125.302 592.386 L116.992 594.053 L116.992 589.793 L125.255 588.127 L129.931 588.127 L129.931 618.752 L137.57 618.752 L137.57 622.687 L117.663 622.687 L117.663 618.752 Z\" fill=\"#000000\" fill-rule=\"nonzero\" fill-opacity=\"1\" /><path clip-path=\"url(#clip620)\" d=\"M147.061 588.127 L165.417 588.127 L165.417 592.062 L151.343 592.062 L151.343 600.534 Q152.362 600.187 153.38 600.025 Q154.399 599.84 155.417 599.84 Q161.204 599.84 164.584 603.011 Q167.964 606.182 167.964 611.599 Q167.964 617.177 164.491 620.279 Q161.019 623.358 154.7 623.358 Q152.524 623.358 150.255 622.988 Q148.01 622.617 145.603 621.877 L145.603 617.177 Q147.686 618.312 149.908 618.867 Q152.13 619.423 154.607 619.423 Q158.612 619.423 160.95 617.316 Q163.288 615.21 163.288 611.599 Q163.288 607.988 160.95 605.881 Q158.612 603.775 154.607 603.775 Q152.732 603.775 150.857 604.191 Q149.005 604.608 147.061 605.488 L147.061 588.127 Z\" fill=\"#000000\" fill-rule=\"nonzero\" fill-opacity=\"1\" /><path clip-path=\"url(#clip620)\" d=\"M119.885 359.141 L136.204 359.141 L136.204 363.076 L114.26 363.076 L114.26 359.141 Q116.922 356.386 121.505 351.757 Q126.112 347.104 127.292 345.761 Q129.538 343.238 130.417 341.502 Q131.32 339.743 131.32 338.053 Q131.32 335.299 129.376 333.562 Q127.455 331.826 124.353 331.826 Q122.154 331.826 119.7 332.59 Q117.269 333.354 114.492 334.905 L114.492 330.183 Q117.316 329.049 119.769 328.47 Q122.223 327.891 124.26 327.891 Q129.63 327.891 132.825 330.576 Q136.019 333.262 136.019 337.752 Q136.019 339.882 135.209 341.803 Q134.422 343.701 132.316 346.294 Q131.737 346.965 128.635 350.183 Q125.533 353.377 119.885 359.141 Z\" fill=\"#000000\" fill-rule=\"nonzero\" fill-opacity=\"1\" /><path clip-path=\"url(#clip620)\" d=\"M156.019 331.595 Q152.408 331.595 150.579 335.16 Q148.774 338.701 148.774 345.831 Q148.774 352.937 150.579 356.502 Q152.408 360.044 156.019 360.044 Q159.653 360.044 161.459 356.502 Q163.288 352.937 163.288 345.831 Q163.288 338.701 161.459 335.16 Q159.653 331.595 156.019 331.595 M156.019 327.891 Q161.829 327.891 164.885 332.498 Q167.964 337.081 167.964 345.831 Q167.964 354.558 164.885 359.164 Q161.829 363.747 156.019 363.747 Q150.209 363.747 147.13 359.164 Q144.075 354.558 144.075 345.831 Q144.075 337.081 147.13 332.498 Q150.209 327.891 156.019 327.891 Z\" fill=\"#000000\" fill-rule=\"nonzero\" fill-opacity=\"1\" /><path clip-path=\"url(#clip620)\" d=\"M120.88 99.5305 L137.2 99.5305 L137.2 103.466 L115.256 103.466 L115.256 99.5305 Q117.918 96.7759 122.501 92.1463 Q127.107 87.4935 128.288 86.151 Q130.533 83.6278 131.413 81.8917 Q132.316 80.1325 132.316 78.4427 Q132.316 75.688 130.371 73.9519 Q128.45 72.2158 125.348 72.2158 Q123.149 72.2158 120.695 72.9797 Q118.265 73.7436 115.487 75.2945 L115.487 70.5723 Q118.311 69.4381 120.765 68.8594 Q123.218 68.2807 125.255 68.2807 Q130.626 68.2807 133.82 70.9658 Q137.015 73.651 137.015 78.1417 Q137.015 80.2714 136.204 82.1926 Q135.417 84.0908 133.311 86.6834 Q132.732 87.3546 129.63 90.5722 Q126.529 93.7667 120.88 99.5305 Z\" fill=\"#000000\" fill-rule=\"nonzero\" fill-opacity=\"1\" /><path clip-path=\"url(#clip620)\" d=\"M147.061 68.9057 L165.417 68.9057 L165.417 72.8408 L151.343 72.8408 L151.343 81.313 Q152.362 80.9658 153.38 80.8038 Q154.399 80.6186 155.417 80.6186 Q161.204 80.6186 164.584 83.7899 Q167.964 86.9611 167.964 92.3778 Q167.964 97.9564 164.491 101.058 Q161.019 104.137 154.7 104.137 Q152.524 104.137 150.255 103.767 Q148.01 103.396 145.603 102.655 L145.603 97.9564 Q147.686 99.0907 149.908 99.6462 Q152.13 100.202 154.607 100.202 Q158.612 100.202 160.95 98.0953 Q163.288 95.9889 163.288 92.3778 Q163.288 88.7667 160.95 86.6602 Q158.612 84.5537 154.607 84.5537 Q152.732 84.5537 150.857 84.9704 Q149.005 85.3871 147.061 86.2667 L147.061 68.9057 Z\" fill=\"#000000\" fill-rule=\"nonzero\" fill-opacity=\"1\" /><path clip-path=\"url(#clip620)\" d=\"M67.3143 809.388 Q73.68 811.871 75.6216 814.226 Q77.5631 816.582 77.5631 820.528 L77.5631 825.207 L72.6615 825.207 L72.6615 821.77 Q72.6615 819.351 71.5157 818.014 Q70.3699 816.677 66.1048 815.054 L63.4312 814.004 L28.3562 828.422 L28.3562 822.215 L56.238 811.075 L28.3562 799.935 L28.3562 793.729 L67.3143 809.388 Z\" fill=\"#000000\" fill-rule=\"nonzero\" fill-opacity=\"1\" /><path clip-path=\"url(#clip620)\" d=\"M43.5384 789.75 L43.5384 772.595 L48.7583 772.595 L48.7583 789.75 L43.5384 789.75 Z\" fill=\"#000000\" fill-rule=\"nonzero\" fill-opacity=\"1\" /><path clip-path=\"url(#clip620)\" d=\"M46.0847 747.068 Q46.0847 754.166 47.7079 756.903 Q49.3312 759.64 53.2461 759.64 Q56.3653 759.64 58.2114 757.603 Q60.0256 755.534 60.0256 752.002 Q60.0256 747.132 56.5881 744.204 Q53.1188 741.243 47.3897 741.243 L46.0847 741.243 L46.0847 747.068 M43.6657 735.387 L64.0042 735.387 L64.0042 741.243 L58.5933 741.243 Q61.8398 743.249 63.3994 746.241 Q64.9272 749.232 64.9272 753.561 Q64.9272 759.036 61.8716 762.282 Q58.7843 765.497 53.6281 765.497 Q47.6125 765.497 44.5569 761.486 Q41.5014 757.444 41.5014 749.455 L41.5014 741.243 L40.9285 741.243 Q36.8862 741.243 34.6901 743.917 Q32.4621 746.559 32.4621 751.365 Q32.4621 754.42 33.1941 757.317 Q33.9262 760.213 35.3903 762.887 L29.9795 762.887 Q28.7381 759.672 28.1334 756.648 Q27.4968 753.625 27.4968 750.76 Q27.4968 743.026 31.5072 739.206 Q35.5176 735.387 43.6657 735.387 Z\" fill=\"#000000\" fill-rule=\"nonzero\" fill-opacity=\"1\" /><path clip-path=\"url(#clip620)\" d=\"M28.3562 693.692 L45.7028 706.582 L64.0042 693.023 L64.0042 699.93 L49.9996 710.306 L64.0042 720.682 L64.0042 727.589 L45.3526 713.744 L28.3562 726.411 L28.3562 719.505 L41.0558 710.052 L28.3562 700.598 L28.3562 693.692 Z\" fill=\"#000000\" fill-rule=\"nonzero\" fill-opacity=\"1\" /><path clip-path=\"url(#clip620)\" d=\"M28.3562 684.748 L28.3562 678.891 L64.0042 678.891 L64.0042 684.748 L28.3562 684.748 M14.479 684.748 L14.479 678.891 L21.895 678.891 L21.895 684.748 L14.479 684.748 Z\" fill=\"#000000\" fill-rule=\"nonzero\" fill-opacity=\"1\" /><path clip-path=\"url(#clip620)\" d=\"M29.4065 643.912 L34.9447 643.912 Q33.6716 646.394 33.035 649.068 Q32.3984 651.742 32.3984 654.606 Q32.3984 658.967 33.7352 661.163 Q35.072 663.327 37.7456 663.327 Q39.7826 663.327 40.9603 661.768 Q42.1061 660.208 43.1565 655.497 L43.6021 653.492 Q44.9389 647.254 47.3897 644.644 Q49.8086 642.002 54.1691 642.002 Q59.1344 642.002 62.0308 645.949 Q64.9272 649.864 64.9272 656.739 Q64.9272 659.603 64.3543 662.722 Q63.8132 665.81 62.6992 669.247 L56.6518 669.247 Q58.3387 666.001 59.198 662.85 Q60.0256 659.699 60.0256 656.611 Q60.0256 652.474 58.6251 650.246 Q57.1929 648.018 54.6147 648.018 Q52.2276 648.018 50.9545 649.641 Q49.6813 651.232 48.5037 656.675 L48.0262 658.712 Q46.8804 664.155 44.5251 666.574 Q42.138 668.993 38.0002 668.993 Q32.9713 668.993 30.2341 665.428 Q27.4968 661.863 27.4968 655.306 Q27.4968 652.06 27.9743 649.195 Q28.4517 646.331 29.4065 643.912 Z\" fill=\"#000000\" fill-rule=\"nonzero\" fill-opacity=\"1\" /><polyline clip-path=\"url(#clip622)\" style=\"stroke:#c1a140; stroke-linecap:round; stroke-linejoin:round; stroke-width:4; stroke-opacity:1; fill:none\" points=\"264.778,86.1857 467.495,553.485 670.211,916.939 872.927,1176.55 1075.64,1332.32 1278.36,1384.24 1481.08,1332.32 1683.79,1176.55 1886.51,916.939 2089.22,553.485 2291.94,86.1857 \"/>\n",
              "<path clip-path=\"url(#clip620)\" d=\"M2013.82 1377.32 L2281.13 1377.32 L2281.13 1273.64 L2013.82 1273.64  Z\" fill=\"#ffffff\" fill-rule=\"evenodd\" fill-opacity=\"1\"/>\n",
              "<polyline clip-path=\"url(#clip620)\" style=\"stroke:#000000; stroke-linecap:round; stroke-linejoin:round; stroke-width:4; stroke-opacity:1; fill:none\" points=\"2013.82,1377.32 2281.13,1377.32 2281.13,1273.64 2013.82,1273.64 2013.82,1377.32 \"/>\n",
              "<polyline clip-path=\"url(#clip620)\" style=\"stroke:#c1a140; stroke-linecap:round; stroke-linejoin:round; stroke-width:4; stroke-opacity:1; fill:none\" points=\"2037.7,1325.48 2180.95,1325.48 \"/>\n",
              "<path clip-path=\"url(#clip620)\" d=\"M2218.67 1345.16 Q2216.86 1349.79 2215.15 1351.2 Q2213.43 1352.62 2210.56 1352.62 L2207.16 1352.62 L2207.16 1349.05 L2209.66 1349.05 Q2211.42 1349.05 2212.39 1348.22 Q2213.37 1347.38 2214.55 1344.28 L2215.31 1342.34 L2204.82 1316.83 L2209.34 1316.83 L2217.44 1337.11 L2225.54 1316.83 L2230.06 1316.83 L2218.67 1345.16 Z\" fill=\"#000000\" fill-rule=\"nonzero\" fill-opacity=\"1\" /><path clip-path=\"url(#clip620)\" d=\"M2237.35 1338.82 L2244.99 1338.82 L2244.99 1312.45 L2236.68 1314.12 L2236.68 1309.86 L2244.94 1308.2 L2249.62 1308.2 L2249.62 1338.82 L2257.25 1338.82 L2257.25 1342.76 L2237.35 1342.76 L2237.35 1338.82 Z\" fill=\"#000000\" fill-rule=\"nonzero\" fill-opacity=\"1\" /></svg>\n"
            ]
          },
          "metadata": {},
          "output_type": "display_data"
        }
      ],
      "source": [
        "#create funciton that squares integers\n",
        "function sqaured(x)\n",
        "    if isinteger(x)\n",
        "        return(x*x)\n",
        "    else\n",
        "        print(\"use an integer\")\n",
        "    end\n",
        "end\n",
        "\n",
        "#initialize variables\n",
        "x=[-5,-4,-3,-2,-1,0,1,2,3,4,5];\n",
        "y=zeros(Int8,11);\n",
        "\n",
        "#square given vector\n",
        "for i=1:length(x)\n",
        "    y[i]=sqaured(x[i]);\n",
        "end\n",
        "\n",
        "#plot results and label axis\n",
        "plot(x,y,color=RGB{Float64}(0.757552,0.633425,0.251451))\n",
        "xlabel!(\"x-axis\")\n",
        "ylabel!(\"y-axis\")\n"
      ]
    },
    {
      "cell_type": "markdown",
      "id": "eaca6031-e691-4019-9986-e7127b3df842",
      "metadata": {},
      "source": [
        "## Commit and Push Your Changes to GitHub\n",
        "\n",
        "After completing the previous two exercises, commit your solution file\n",
        "(notebook or otherwise) and push to GitHub. Use an informative commit\n",
        "message which makes it clear what changes you’ve made. The specific\n",
        "workflow for this will vary depending on how you’re writing up your\n",
        "solutions; please search for specifics and ask for help as needed!\n",
        "\n",
        "> **Useful Commit Sizes**\n",
        ">\n",
        "> Ideally, you’d commit whenever you make a “substantial” enough change\n",
        "> that you want to lock in, such as writing the core code for a problem\n",
        "> or completing a problem, if you’re preparing code to be used elsewhere\n",
        "> (by yourself or others), or if you want to ask for help. `git` lets\n",
        "> you revert changes back to a previous commit, so it’s easy to undo\n",
        "> changes or updates which broke something that was previously working,\n",
        "> so changing too many things at once can make it hard to keep track of\n",
        "> what worked when.\n",
        ">\n",
        "> But in this case, go ahead and just commit after finishing the\n",
        "> problems.\n",
        "\n",
        "Push the repository with these commits to GitHub and take a screenshot\n",
        "of the repository page\n",
        "(`https://github.com/BEE4750-FA24/<username>/lab01`) which shows the\n",
        "updated repository. Include that screenshot in your submission as the\n",
        "solution to this problem.\n",
        "\n",
        "## Submitting PDF\n",
        "\n",
        "> **Important**\n",
        ">\n",
        "> These submission instructions will not be repeated on future\n",
        "> assignments!\n",
        "\n",
        "Export your writeup as a PDF and submit it to the “Lab 1” assignment on\n",
        "Gradescope. Make sure that you tag pages corresponding to relevant\n",
        "problems to avoid a 10% penalty.\n",
        "\n",
        "> **Printing Code to PDF**\n",
        ">\n",
        "> You are not required to submit your code when submitting assignments.\n",
        "> However, when printing a notebook to PDF, long lines will run off the\n",
        "> edge of code cells, which may result in comments or code being hidden.\n",
        "> If you see this, go back to the notebook and break up long lines into\n",
        "> shorter onces (for example, see the comment in the above code cell) to\n",
        "> ensure key parts of your results aren’t missing."
      ]
    },
    {
      "cell_type": "markdown",
      "id": "be9bc9a7",
      "metadata": {},
      "source": [
        "## Write up\n",
        "\n",
        "**Exercise 1**\n",
        "When creating a functions that has an dot product output, first I ensure the conditions of the functions are met when inputted by the user. this includes checking for both vectors to have the same dimensions using the length function. Next, once conditiond were met, I used a loop to multiple the corresponding positons in each vector and adding them to a total. After this total was calulcated, the sum is outputted.\n",
        "\n",
        "**Exercise 2**\n",
        "First, I created a function that squared integer, including a check for an valid input and the output of the squared value. Then, I created a vector of the values requested and an zero vector of the same dimensions. I implemented a for loop to gatehr the squared output of the first vector and add them to the second vector. I plotted both vectors, the results being a parabola (as exspected), and label the axises."
      ]
    }
  ],
  "metadata": {
    "kernel_info": {
      "name": "julia"
    },
    "kernelspec": {
      "display_name": "Julia 1.10.5",
      "language": "julia",
      "name": "julia-1.10"
    },
    "language_info": {
      "file_extension": ".jl",
      "mimetype": "application/julia",
      "name": "julia",
      "version": "1.10.5"
    }
  },
  "nbformat": 4,
  "nbformat_minor": 5
}
